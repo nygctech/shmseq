{
 "cells": [
  {
   "cell_type": "markdown",
   "metadata": {},
   "source": [
    "### Bacterial alignment rate\n",
    "\n",
    "Input file:<br>\n",
    "Bacterial pipeline log files (ASF, GF, SPF): <br>\n",
    "QC16S_ASF_C1_S1_BACpipeline.log, QC16S_ASF_D1_S2_BACpipeline.log, QC16S_ASF_E1_S3_BACpipeline.log, QC16S_C1_BACpipeline.log, QC16S_D1_BACpipeline.log, QC16S_E1_BACpipeline.log, S1_C2_BACpipeline.log, S1_D2_BACpipeline.log, S1_E2_BACpipeline.log\n"
   ]
  },
  {
   "cell_type": "code",
   "execution_count": 1,
   "metadata": {},
   "outputs": [],
   "source": [
    "import os\n",
    "import glob\n",
    "import numpy as np\n",
    "import matplotlib.pyplot as plt\n",
    "import pandas as pd\n",
    "from collections import Counter, defaultdict\n",
    "import seaborn as sns\n",
    "import pickle\n",
    "import matplotlib as mpl\n",
    "from sklearn.preprocessing import MinMaxScaler\n",
    "import warnings\n",
    "warnings.filterwarnings('ignore')"
   ]
  },
  {
   "cell_type": "code",
   "execution_count": 10,
   "metadata": {},
   "outputs": [],
   "source": [
    "file_names = {'QC16S_ASF_C1_S1':['ASF', 'C1', 'Treatment'],\n",
    "             'QC16S_ASF_D1_S2':['ASF', 'D1', 'Treatment'],\n",
    "             'QC16S_ASF_E1_S3':['ASF', 'E1', 'Treatment'],\n",
    "             'QC16S_C1':['GF', 'C1', 'Treatment'],\n",
    "             'QC16S_D1':['GF', 'D1', 'Treatment'],\n",
    "             'QC16S_E1':['GF', 'E1', 'Treatment'],\n",
    "             'S1_C2':['WT','C2', 'Treatment'],\n",
    "             'S1_D2':['WT','D2', 'Treatment'],\n",
    "             'S1_E2':['WT','E2', 'Treatment']}\n"
   ]
  },
  {
   "cell_type": "markdown",
   "metadata": {},
   "source": [
    "# Bac log"
   ]
  },
  {
   "cell_type": "code",
   "execution_count": 11,
   "metadata": {},
   "outputs": [
    {
     "name": "stdout",
     "output_type": "stream",
     "text": [
      "             index    Mouse %      Bac %  Bac reads                    xy  \\\n",
      "0            S1_E2  69.999873  24.761493   175739.0   [WT, E2, Treatment]   \n",
      "1         QC16S_E1  99.594009   0.006723       31.0   [GF, E1, Treatment]   \n",
      "2            S1_D2  63.942001  30.002722   208305.0   [WT, D2, Treatment]   \n",
      "3  QC16S_ASF_C1_S1  78.107134  19.139617   127382.0  [ASF, C1, Treatment]   \n",
      "4         QC16S_D1  99.783644   0.006929       31.0   [GF, D1, Treatment]   \n",
      "\n",
      "  mouse well      Treat  \n",
      "0    WT   E2  Treatment  \n",
      "1    GF   E1  Treatment  \n",
      "2    WT   D2  Treatment  \n",
      "3   ASF   C1  Treatment  \n",
      "4    GF   D1  Treatment  \n"
     ]
    }
   ],
   "source": [
    "# Read log files\n",
    "path = ''\n",
    "\n",
    "extra = {}\n",
    "\n",
    "for file in os.listdir(path):\n",
    "    if file.endswith(\".log\"):\n",
    "        name = file.split('/')[-1].split('_BAC')[0]\n",
    "\n",
    "        if name in file_names:\n",
    "        \n",
    "            with open(os.path.join(path, file), 'rb') as handle:\n",
    "                rs = handle.readlines()\n",
    "                rs = [x.decode(\"utf-8\") for x in rs]\n",
    "\n",
    "                for i, r in enumerate(rs): # Reads after trimming\n",
    "                    r = r.rstrip()\n",
    "                    if r.startswith('Trimming stats reads remaining:'):\n",
    "                        trimmed_reads = int(r.split(' ')[-1])\n",
    "\n",
    "                    elif r.endswith(' : N/A)'): # mouse read assignment\n",
    "                        mouse_reads = int(r.split(' ')[0])\n",
    "\n",
    "                    elif r.startswith('Number of input reads into Kraken2:'): # bacterial reads into Kraken2\n",
    "                        kraken_reads = int(rs[i+1].rstrip())\n",
    "\n",
    "                    elif r.startswith('Number of reads AFTER dropping unassigned:'):\n",
    "                        bac_reads = int(r.split(' ')[-1])\n",
    "\n",
    "                bac_percent = bac_reads/trimmed_reads *100\n",
    "                mouse_percent = mouse_reads/trimmed_reads *100\n",
    "\n",
    "                extra[name] = [mouse_percent, bac_percent, bac_reads]\n",
    "df = pd.DataFrame(extra)\n",
    "df = df.T\n",
    "df.columns = ['Mouse %', 'Bac %', 'Bac reads']\n",
    "df.reset_index(inplace=True)\n",
    "df['xy'] = df['index'].map(file_names)\n",
    "df[['mouse', 'well', 'Treat']] = pd.DataFrame(df['xy'].tolist(), index=df.index)\n",
    "print(df.head())"
   ]
  },
  {
   "cell_type": "code",
   "execution_count": 12,
   "metadata": {},
   "outputs": [
    {
     "data": {
      "image/png": "[encoded data removed]",
      "text/plain": [
       "<Figure size 360x360 with 1 Axes>"
      ]
     },
     "metadata": {
      "needs_background": "light"
     },
     "output_type": "display_data"
    }
   ],
   "source": [
    "# Plot Bac %\n",
    "\n",
    "fig = plt.figure(figsize=(5,5))\n",
    "\n",
    "# for a 1x2 subplot\n",
    "axes = []\n",
    "for row_idx in range(0,1):\n",
    "    for col_idx in range(0,1):\n",
    "        ax = plt.subplot2grid((1, 1), (row_idx, col_idx))\n",
    "        axes.append(ax)\n",
    "        \n",
    "x = 'mouse'\n",
    "y = ['Bac %'] \n",
    "hue = 'Treat'\n",
    "hue_order = ['Treatment']\n",
    "order = ['GF', 'ASF', 'WT']\n",
    "\n",
    "for i, animal in enumerate(y):\n",
    "    ax = axes[i]   \n",
    "    sns.boxplot(x=x, y=animal, hue=hue, order=order, hue_order=hue_order, data=df, ax=ax)\n",
    "    ax.set_xlabel('')\n",
    "    ax.set_ylabel('Bacterial alignment rate (%)')\n",
    "    ax.get_legend().remove()   \n",
    "    \n",
    "plt.tight_layout()"
   ]
  },
  {
   "cell_type": "code",
   "execution_count": null,
   "metadata": {},
   "outputs": [],
   "source": []
  }
 ],
 "metadata": {
  "kernelspec": {
   "display_name": "Python 3 (ipykernel)",
   "language": "python",
   "name": "python3"
  },
  "language_info": {
   "codemirror_mode": {
    "name": "ipython",
    "version": 3
   },
   "file_extension": ".py",
   "mimetype": "text/x-python",
   "name": "python",
   "nbconvert_exporter": "python",
   "pygments_lexer": "ipython3",
   "version": "3.8.13"
  }
 },
 "nbformat": 4,
 "nbformat_minor": 4
}
