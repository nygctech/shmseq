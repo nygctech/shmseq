{
 "cells": [
  {
   "cell_type": "markdown",
   "metadata": {},
   "source": [
    "### Evaluate FISH vs SHM-seq results\n",
    "\n",
    "Input files:<br>\n",
    "ASF lambda file: asf_lambdas_pmeans.tsv<br>\n",
    "ASF annotation files: $*$annotations.txt<br>\n",
    "FISH lambda file: fish_$*$lambdas_pmeans.tsv<br>\n",
    "FISH annotation file: 210501_$*$annotations.txt<br>\n"
   ]
  },
  {
   "cell_type": "code",
   "execution_count": 1,
   "metadata": {},
   "outputs": [
    {
     "name": "stderr",
     "output_type": "stream",
     "text": [
      "In /opt/anaconda3/envs/stenv3/lib/python3.7/site-packages/matplotlib/mpl-data/stylelib/_classic_test.mplstyle: \n",
      "The text.latex.unicode rcparam was deprecated in Matplotlib 3.0 and will be removed in 3.2.\n",
      "In /opt/anaconda3/envs/stenv3/lib/python3.7/site-packages/matplotlib/mpl-data/stylelib/_classic_test.mplstyle: \n",
      "The savefig.frameon rcparam was deprecated in Matplotlib 3.1 and will be removed in 3.3.\n",
      "In /opt/anaconda3/envs/stenv3/lib/python3.7/site-packages/matplotlib/mpl-data/stylelib/_classic_test.mplstyle: \n",
      "The pgf.debug rcparam was deprecated in Matplotlib 3.0 and will be removed in 3.2.\n",
      "In /opt/anaconda3/envs/stenv3/lib/python3.7/site-packages/matplotlib/mpl-data/stylelib/_classic_test.mplstyle: \n",
      "The verbose.level rcparam was deprecated in Matplotlib 3.1 and will be removed in 3.3.\n",
      "In /opt/anaconda3/envs/stenv3/lib/python3.7/site-packages/matplotlib/mpl-data/stylelib/_classic_test.mplstyle: \n",
      "The verbose.fileo rcparam was deprecated in Matplotlib 3.1 and will be removed in 3.3.\n"
     ]
    }
   ],
   "source": [
    "import os\n",
    "import re\n",
    "import glob\n",
    "import numpy as np\n",
    "import matplotlib\n",
    "import matplotlib.pyplot as plt\n",
    "import pickle\n",
    "import pandas as pd\n",
    "from sklearn import preprocessing\n",
    "from scipy.stats import linregress, spearmanr, pearsonr\n",
    "import statistics\n",
    "import seaborn as sns"
   ]
  },
  {
   "cell_type": "markdown",
   "metadata": {},
   "source": [
    "# ASF"
   ]
  },
  {
   "cell_type": "code",
   "execution_count": 2,
   "metadata": {
    "scrolled": true
   },
   "outputs": [],
   "source": [
    "# Load Lambda pmean df\n",
    "\n",
    "path = ''\n",
    "\n",
    "# Read file\n",
    "filename = os.path.join(path, 'asf_lambdas_pmeans.tsv')\n",
    "    \n",
    "lambda_posterior_means = pd.read_csv(filename, index_col=0, sep='\\t', header=[0,1])\n"
   ]
  },
  {
   "cell_type": "code",
   "execution_count": 3,
   "metadata": {},
   "outputs": [],
   "source": [
    "# Change names on genes, ie remove '_'\n",
    "nwe=[]\n",
    "nm=lambda_posterior_means.index\n",
    "for item in nm:\n",
    "    nwe.append(str(item).split(\"_\")[0])\n",
    "\n",
    "lambda_posterior_means.index = nwe\n"
   ]
  },
  {
   "cell_type": "code",
   "execution_count": 4,
   "metadata": {},
   "outputs": [
    {
     "name": "stderr",
     "output_type": "stream",
     "text": [
      "/opt/anaconda3/envs/stenv3/lib/python3.7/site-packages/ipykernel_launcher.py:3: RuntimeWarning: overflow encountered in exp\n",
      "  This is separate from the ipykernel package so we can avoid doing imports until\n"
     ]
    }
   ],
   "source": [
    "# Take exp()\n",
    "lambda_posterior_means = lambda_posterior_means.astype(float)\n",
    "lambda_posterior_means = np.exp(lambda_posterior_means-1)"
   ]
  },
  {
   "cell_type": "markdown",
   "metadata": {},
   "source": [
    "## Read annotation files"
   ]
  },
  {
   "cell_type": "code",
   "execution_count": 5,
   "metadata": {},
   "outputs": [],
   "source": [
    "# Read annotation files\n",
    "path = ''\n",
    "annot_d = {}\n",
    "region_list = []\n",
    "for filename in glob.glob(os.path.join(path, '*annotations.txt')):\n",
    "    \n",
    "    name = filename.split('/')[-1].split('_annotations.txt')[0]\n",
    "    \n",
    "    # Read file\n",
    "    annot = pd.read_csv(filename, sep='\\t')\n",
    "    annot.rename(columns={'value':'annotation'}, inplace=True)\n",
    "    \n",
    "    annot_melt = pd.melt(annot, id_vars=['annotation'], value_vars=['x_y'])\n",
    "\n",
    "    annot_melt[['x', 'y']] = annot_melt[\"value\"].str.split(\"_\", n = 1, expand = True)\n",
    "\n",
    "    annot_melt[['x', 'y']] = annot_melt[['x', 'y']].astype(int)\n",
    "\n",
    "    annot_melt = annot_melt[annot_melt['value'] != 0]\n",
    "\n",
    "    # Get the regions\n",
    "    for reg in annot_melt['annotation'].tolist():\n",
    "        region_list.append(reg)\n",
    "    \n",
    "    annot_d[name] = annot_melt\n"
   ]
  },
  {
   "cell_type": "code",
   "execution_count": 6,
   "metadata": {},
   "outputs": [],
   "source": [
    "specific_bacs = {'Bacteria,Bacteroidetes,Bacteroidia,Bacteroidales,Tannerellaceae,Parabacteroides':'210501_E1',\n",
    "         'Bacteria,Firmicutes,Bacilli,Lactobacillales,Lactobacillaceae,Lactobacillus':'210501_D1',\n",
    "        'Bacteria,Firmicutes,Clostridia,Clostridiales,Lachnospiraceae,Schaedlerella':'210501_C1'}\n",
    "\n",
    "repl_dict = {'epithelium apex of crypt and lamina propria and mucosa': 'mouse and mucosa',\n",
    "             'epithelium and lamina propria and mucosa': 'mouse and mucosa',\n",
    "            'epithelium apex of crypt and mucosa': 'mouse and mucosa',\n",
    "            'epithelium apex of crypt and mucosa and pellet': 'mouse and mucosa and pellet',\n",
    "            'epithelium and lamina propria and muscularis mucosae and muscularis propria muscularis externa and muscularis propria muscularis interna and submucosa all':'mouse',\n",
    "            'epithelium base of crypt and lamina propria and muscularis mucosae and muscularis propria muscularis externa and muscularis propria muscularis interna and submucosa all':'mouse',\n",
    "            'muscularis mucosae and muscularis propria muscularis externa and muscularis propria muscularis interna':'mouse',\n",
    "            'epithelium and lamina propria and muscularis mucosae and submucosa all':'mouse',\n",
    "            'muscularis propria muscularis externa':'mouse',\n",
    "            'epithelium and lamina propria':'mouse',\n",
    "            'muscularis propria muscularis externa and muscularis propria muscularis interna':'mouse',\n",
    "            'epithelium and lamina propria and muscularis mucosae':'mouse',\n",
    "             'epithelium base of crypt and muscularis mucosae and muscularis propria muscularis interna':'mouse',\n",
    "            'muscularis all and submucosa all':'mouse'} \n",
    "\n",
    "rtsub_l = []\n",
    "rtspot_l = []\n",
    "for bac in list(specific_bacs):\n",
    "    lambda_posterior_means_gene = lambda_posterior_means.loc[[bac] , :]\n",
    "    count_files = np.array(list(lambda_posterior_means_gene.columns.levels[0]))\n",
    "    \n",
    "    for n,count_file in enumerate(count_files):\n",
    "        \n",
    "        name = '_'.join([count_file.split('/')[-1].split('_')[0], count_file.split('/')[-1].split('_')[1]])\n",
    "        \n",
    "        ld = lambda_posterior_means_gene[count_file].loc[bac].reset_index()\n",
    "        \n",
    "        df = ld.merge(annot_d[name], right_on=\"value\", left_on='coordinate', how = 'inner').drop('value', axis=1)\n",
    "        \n",
    "        df['annotation'] = df['annotation'].replace({k : v for k, v in repl_dict.items()}) \n",
    "        \n",
    "        # Regional\n",
    "        rtsub = df.groupby('annotation').mean()[[bac]].sort_values(by=bac, ascending=False)\n",
    "        rtsub.reset_index(inplace=True)\n",
    "        rtsub = pd.melt(rtsub, id_vars=['annotation'], value_vars=[bac])\n",
    "        rtsub['sample'] = name\n",
    "        \n",
    "        rtsub_l.append(rtsub)\n",
    "        \n",
    "        # Spot\n",
    "        rtspot = df[['coordinate', bac, 'annotation']]\n",
    "        rtspot = pd.melt(rtspot, id_vars=['coordinate', 'annotation'], value_vars=[bac])\n",
    "        rtspot['sample'] = name\n",
    "        \n",
    "        ### Selectiong of pellet spots (close to mouse)\n",
    "        # Select spots which includes 'mouse'\n",
    "        rtspot_mouse = rtspot[rtspot['annotation'] == 'mouse']\n",
    "        # Add coordinates for possible pellet spots\n",
    "        possible_pellet_spots = []\n",
    "        for ind, row in rtspot_mouse.iterrows():\n",
    "            xplus1 = str(int(row['coordinate'].split('_')[0]) + 1) + '_' + row['coordinate'].split('_')[1]\n",
    "            xminus1 = str(int(row['coordinate'].split('_')[0]) - 1) + '_' + row['coordinate'].split('_')[1]\n",
    "            yplus1 = row['coordinate'].split('_')[0] + '_' + str(int(row['coordinate'].split('_')[1]) + 1)\n",
    "            yminus1 = row['coordinate'].split('_')[0] + '_' + str(int(row['coordinate'].split('_')[1]) - 1)\n",
    "            possible_pellet_spots.extend([xplus1, xminus1, yplus1, yminus1])\n",
    "        \n",
    "        possible_pellet_spots = list(set(possible_pellet_spots))\n",
    "        \n",
    "        rtspot_pellet = rtspot[rtspot['annotation'] == 'pellet']\n",
    "        rtspot_pellet = rtspot_pellet[rtspot_pellet['coordinate'].isin(possible_pellet_spots)]\n",
    "\n",
    "        rtspot_notpellet = rtspot[rtspot['annotation']!='pellet']\n",
    "        rtspot = pd.concat([rtspot_notpellet, rtspot_pellet])\n",
    "\n",
    "        \n",
    "        rtspot_l.append(rtspot)\n",
    "        \n",
    "\n",
    "DF = pd.concat(rtsub_l)\n",
    "DFspot = pd.concat(rtspot_l)\n",
    "\n",
    "DF_group = DF.groupby(['annotation', 'variable']).mean().reset_index()\n"
   ]
  },
  {
   "cell_type": "markdown",
   "metadata": {},
   "source": [
    "# FISH"
   ]
  },
  {
   "cell_type": "code",
   "execution_count": 7,
   "metadata": {},
   "outputs": [],
   "source": [
    "# Load Lambda pmean df\n",
    "\n",
    "fishpath = ''\n",
    "\n",
    "# Read file\n",
    "filename = os.path.join(fishpath, 'fish_C1_lambdas_pmeans.tsv')\n",
    "    \n",
    "fishlambda_posterior_means = pd.read_csv(filename, index_col=0, sep='\\t', header=[0,1])\n",
    "\n",
    "# Change names on genes, ie remove '_'\n",
    "nwe=[]\n",
    "nm=fishlambda_posterior_means.index\n",
    "for item in nm:\n",
    "    nwe.append(str(item).split(\"_1\")[0])\n",
    "\n",
    "fishlambda_posterior_means.index = nwe\n",
    "\n",
    "# Take exp()\n",
    "fishlambda_posterior_means = fishlambda_posterior_means.astype(float)\n",
    "fishlambda_posterior_means = np.exp(fishlambda_posterior_means-1)"
   ]
  },
  {
   "cell_type": "markdown",
   "metadata": {},
   "source": [
    "## Read annotation file"
   ]
  },
  {
   "cell_type": "code",
   "execution_count": 8,
   "metadata": {},
   "outputs": [],
   "source": [
    "# Read annotation files\n",
    "fishannot_d = {}\n",
    "\n",
    "for filename in glob.glob(os.path.join(fishpath, '*annotations.txt')):\n",
    "    \n",
    "    name = filename.split('/')[-1].split('_annotations.txt')[0]\n",
    "    \n",
    "    # Read file\n",
    "    annot = pd.read_csv(filename, sep='\\t')\n",
    "    annot.rename(columns={'value':'annotation'}, inplace=True)\n",
    "    \n",
    "    annot_melt = pd.melt(annot, id_vars=['annotation'], value_vars=['x_y'])\n",
    "\n",
    "    annot_melt[['x', 'y']] = annot_melt[\"value\"].str.split(\"_\", n = 1, expand = True)\n",
    "\n",
    "    annot_melt[['x', 'y']] = annot_melt[['x', 'y']].astype(int)\n",
    "\n",
    "    annot_melt = annot_melt[annot_melt['value'] != 0]\n",
    "    \n",
    "    fishannot_d[name] = annot_melt"
   ]
  },
  {
   "cell_type": "code",
   "execution_count": 9,
   "metadata": {},
   "outputs": [],
   "source": [
    "fishrtspot_l = []\n",
    "for bac in ['210501_C1']:\n",
    "    fishlambda_posterior_means_gene = fishlambda_posterior_means.loc[[bac] , :]\n",
    "    count_files = np.array(list(fishlambda_posterior_means_gene.columns.levels[0]))\n",
    "    \n",
    "    for n,count_file in enumerate(count_files):\n",
    "        \n",
    "        name = '_'.join([count_file.split('/')[-1].split('_')[0], count_file.split('/')[-1].split('_')[1]])\n",
    "        \n",
    "        ld = fishlambda_posterior_means_gene[count_file].loc[bac].reset_index()\n",
    "        \n",
    "        df = ld.merge(fishannot_d[name], right_on=\"value\", left_on='coordinate', how = 'inner').drop('value', axis=1)\n",
    "        \n",
    "        df['annotation'] = df['annotation'].replace({k : v for k, v in repl_dict.items()}) \n",
    "        \n",
    "        # Spot\n",
    "        rtspot = df[['coordinate', bac, 'annotation']]\n",
    "        rtspot = pd.melt(rtspot, id_vars=['coordinate', 'annotation'], value_vars=[bac])\n",
    "        rtspot.rename(columns={'variable':'sample', 'value':'subintensity'}, inplace=True)\n",
    "                \n",
    "        ### Selectiong of pellet spots (close to mouse)\n",
    "        # Select spots which includes 'mouse'\n",
    "        rtspot_mouse = rtspot[rtspot['annotation'] == 'mouse']\n",
    "        # Add coordinates for possible pellet spots\n",
    "        possible_pellet_spots = []\n",
    "        for ind, row in rtspot_mouse.iterrows():\n",
    "            xplus1 = str(int(row['coordinate'].split('_')[0]) + 1) + '_' + row['coordinate'].split('_')[1]\n",
    "            xminus1 = str(int(row['coordinate'].split('_')[0]) - 1) + '_' + row['coordinate'].split('_')[1]\n",
    "            yplus1 = row['coordinate'].split('_')[0] + '_' + str(int(row['coordinate'].split('_')[1]) + 1)\n",
    "            yminus1 = row['coordinate'].split('_')[0] + '_' + str(int(row['coordinate'].split('_')[1]) - 1)\n",
    "            possible_pellet_spots.extend([xplus1, xminus1, yplus1, yminus1])\n",
    "        \n",
    "        possible_pellet_spots = list(set(possible_pellet_spots))\n",
    "        \n",
    "        rtspot_pellet = rtspot[rtspot['annotation'] == 'pellet']\n",
    "        rtspot_pellet = rtspot_pellet[rtspot_pellet['coordinate'].isin(possible_pellet_spots)]\n",
    "\n",
    "        rtspot_notpellet = rtspot[rtspot['annotation']!='pellet']\n",
    "        rtspot = pd.concat([rtspot_notpellet, rtspot_pellet])\n",
    "\n",
    "            \n",
    "        fishrtspot_l.append(rtspot)\n",
    "        \n",
    "fishDFspot = pd.concat(fishrtspot_l)\n"
   ]
  },
  {
   "cell_type": "markdown",
   "metadata": {},
   "source": [
    "# Compare: ASF vs FISH\n"
   ]
  },
  {
   "cell_type": "code",
   "execution_count": 10,
   "metadata": {
    "scrolled": true
   },
   "outputs": [],
   "source": [
    "names = {v:k for k,v in specific_bacs.items()}\n",
    "\n",
    "min_max_scaler = preprocessing.MinMaxScaler()\n",
    "palette = {'mouse and mucosa':'c', 'mucosa':'m', 'mucosa and pellet':'y', 'pellet':'k'}\n",
    "\n",
    "repeat100_d = {}\n",
    "\n",
    "for i in range(1000):\n",
    "    FISH_l = []\n",
    "    LAMDBA_l = []\n",
    "    for file in list(set(fishDFspot['sample'].tolist())):\n",
    "\n",
    "        fis = fishDFspot[fishDFspot['sample'] == file] # Selecting bac\n",
    "\n",
    "        # Only keep interesting regions\n",
    "        fis = fis[fis['annotation'].isin(list(palette))]\n",
    "\n",
    "        # Randomly take x spots of each region in FISH, depending on how many spots there are of each region\n",
    "        maxnum = 3\n",
    "        fish_l = []\n",
    "        fish_rt_count = {}\n",
    "        for label, group in fis.groupby(['annotation']):\n",
    "            if group.shape[0] < maxnum:\n",
    "                group_select = group.copy()\n",
    "            else:\n",
    "                group_select = group.sample(n = maxnum, replace = False)\n",
    "\n",
    "            group_select['value'] = label\n",
    "            group_select['bac'] = names[file]\n",
    "            fish_l.append(group_select)\n",
    "            fish_rt_count[label] = group_select.shape[0] \n",
    "\n",
    "        fish = pd.concat(fish_l)\n",
    "        fish['fish.norm'] = fish['subintensity'].transform(lambda x: preprocessing.minmax_scale(x))\n",
    "        FISH_l.append(fish)\n",
    "\n",
    "        lamdba_samp = []\n",
    "        for samp in list(set(DFspot['sample'].tolist())):\n",
    "\n",
    "            lamdba = DFspot[DFspot['variable'] == names[file]] # Selecting bac\n",
    "            lamdba = lamdba[lamdba['sample'] == samp] # Selecting sample\n",
    "\n",
    "            # Only keep interesting regions\n",
    "            lamdba = lamdba[lamdba['annotation'].isin(list(palette))]\n",
    "\n",
    "            lamdba_l = []\n",
    "            for k, v in fish_rt_count.items():\n",
    "                lamdba_selection = lamdba[lamdba['annotation'] == k] # Selecting region\n",
    "                if lamdba_selection.shape[0] > v: # There are more than enough of spots in that region, randomly select spots\n",
    "                    lamdba_selection = lamdba_selection.sample(n = v, replace = False)\n",
    "                lamdba_l.append(lamdba_selection)\n",
    "            ls = pd.concat(lamdba_l)\n",
    "            ls['lambda.norm'] = ls['value'].transform(lambda x: preprocessing.minmax_scale(x))\n",
    "            lamdba_samp.append(ls)\n",
    "\n",
    "        lamdba = pd.concat(lamdba_samp)\n",
    "\n",
    "        LAMDBA_l.append(lamdba)\n",
    "\n",
    "    FISH = pd.concat(FISH_l)\n",
    "    LAMDBA = pd.concat(LAMDBA_l)\n",
    "    repeat100_d[i] = [FISH, LAMDBA]\n",
    "\n"
   ]
  },
  {
   "cell_type": "code",
   "execution_count": 11,
   "metadata": {
    "scrolled": false
   },
   "outputs": [],
   "source": [
    "cn26 = ['10015CN26_C1', '10015CN26_C2', '10015CN26_D1', '10015CN26_D2', '10015CN26_E1', '10015CN26_E2']\n",
    "        \n",
    "counter = 0\n",
    "all_data_d = {}\n",
    "    \n",
    "for samp in cn26:\n",
    "    spear_old = 0\n",
    "    for icount, igroup in repeat100_d.items():\n",
    "        plot_lamdba = igroup[1][igroup[1]['sample'] == samp]\n",
    "        \n",
    "        # Go through each FISH bac\n",
    "        for bac in list(set(igroup[0]['bac'].tolist())):\n",
    "            # Merge lamdba with fish\n",
    "            LAMDBA_plot_bac = plot_lamdba[plot_lamdba['variable'] == bac]\n",
    "            LAMDBA_plot_bac = LAMDBA_plot_bac.sort_values(by='annotation')\n",
    "            FISH_plot_bac = igroup[0][igroup[0]['bac'] == bac]\n",
    "\n",
    "            # Only keep regions which exist in both lamdba and fish\n",
    "            common_regions = list(set(LAMDBA_plot_bac['annotation'].tolist()).intersection(FISH_plot_bac['value'].tolist()))\n",
    "            if len(common_regions) >=2 :\n",
    "                LAMDBA_plot_bac = LAMDBA_plot_bac[LAMDBA_plot_bac['annotation'].isin(common_regions)]\n",
    "                FISH_plot_bac = FISH_plot_bac[FISH_plot_bac['value'].isin(common_regions)]\n",
    "\n",
    "                # Check so that there are equal sets of spots in reagions\n",
    "                LAMDBA_d = {}\n",
    "                FISH_d = []\n",
    "                for label, group in LAMDBA_plot_bac.groupby('annotation'):\n",
    "                    LAMDBA_d[label] = group.shape[0]\n",
    "                for label, group in FISH_plot_bac.groupby('value'):\n",
    "                    if group.shape[0] != LAMDBA_d[label]: # There there are more spots in FISH than in LAMDBA, remove spots\n",
    "                        to_remove = group.shape[0] - LAMDBA_d[label]\n",
    "                        drop_indices = np.random.choice(group.index, to_remove, replace=False)\n",
    "                        df_subset = group.drop(drop_indices)\n",
    "                        FISH_d.append(df_subset)\n",
    "                    else:\n",
    "                        FISH_d.append(group)\n",
    "                FISH_plot_bac = pd.concat(FISH_d)\n",
    "                FISH_plot_bac = FISH_plot_bac.sort_values(by='value')\n",
    "\n",
    "                merged = pd.concat([LAMDBA_plot_bac.loc[:,['lambda.norm', 'annotation']].reset_index(), FISH_plot_bac.loc[:, ['fish.norm', 'value']].reset_index()], axis=1).drop('index', axis=1)\n",
    "                merged['sample'] = samp\n",
    "                # Store all data\n",
    "                all_data_d[str(icount) + '+' + samp + '+' + bac] = merged\n"
   ]
  },
  {
   "cell_type": "markdown",
   "metadata": {},
   "source": [
    "# Calculate spearman on all 1000 repeats"
   ]
  },
  {
   "cell_type": "code",
   "execution_count": 12,
   "metadata": {
    "scrolled": true
   },
   "outputs": [
    {
     "name": "stdout",
     "output_type": "stream",
     "text": [
      "0.0\n",
      "CN26\n",
      "Bacteria,Firmicutes,Clostridia,Clostridiales,Lachnospiraceae,Schaedlerella\n",
      "Spearman's r: 0.705 pvalue: 0.0\n",
      "MEAN spearman's r: 0.7291560606060606\n"
     ]
    }
   ],
   "source": [
    "# Go through each FISH bac\n",
    "# Calculate spearman\n",
    "Y = 'fish.norm'\n",
    "X = 'lambda.norm'\n",
    "\n",
    "for bac in list(set(repeat100_d[1][0]['bac'].tolist())):\n",
    "    \n",
    "    merged_samps = []\n",
    "    spear_l = []\n",
    "    for k,v in all_data_d.items():\n",
    "        if k.split('+')[-1] == bac:\n",
    "            if k.split('+')[1] in cn26:\n",
    "\n",
    "                kk = v\n",
    "\n",
    "                spear, ps = spearmanr(kk[X], kk[Y])\n",
    "                spear_l.append(spear)\n",
    "\n",
    "                merged_samps.append(kk)\n",
    "    data = pd.concat(merged_samps)\n",
    "\n",
    "\n",
    "    # Spearman's\n",
    "    spear, ps = spearmanr(data[X], data[Y])\n",
    "    print(ps)\n",
    "    print('CN26')\n",
    "    print(bac)\n",
    "    print(\"Spearman's r: \" + str(round(spear, 3)) + ' pvalue: ' + str(ps))\n",
    "    print(\"MEAN spearman's r: \" + str(statistics.mean(spear_l)))\n"
   ]
  },
  {
   "cell_type": "code",
   "execution_count": 22,
   "metadata": {},
   "outputs": [
    {
     "data": {
      "image/png": "[encoded data removed]",
      "text/plain": [
       "<Figure size 432x432 with 3 Axes>"
      ]
     },
     "metadata": {},
     "output_type": "display_data"
    }
   ],
   "source": [
    "Y = data.groupby([\"annotation\", \"sample\"]).mean().reset_index() \n",
    "\n",
    "sns.set(rc={'figure.figsize':(11.7,8.27)})\n",
    "sns.set_style(\"ticks\")\n",
    "axs = sns.jointplot(y=\"fish.norm\", x=\"lambda.norm\", data=Y, hue = \"annotation\",space=1, palette=palette)\n",
    "sns.regplot(y=\"fish.norm\", x=\"lambda.norm\", data=Y, scatter=False, ax=axs.ax_joint, truncate=False, line_kws={\"color\": \"gray\"})\n",
    "axs.ax_joint.legend(title='Annotation')\n",
    "axs.ax_joint.set(xlim=(0, 1))\n",
    "axs.ax_joint.set(ylim=(0, 1))\n",
    "axs.ax_joint.set_xlabel('SMH-seq: Scaled normalized bacterial count')\n",
    "axs.ax_joint.set_ylabel('FISH: Scaled normalized fluorescence intensity')\n",
    "axs.plot_marginals(sns.rugplot, color=\"r\", height=-.15, clip_on=False)\n",
    "\n",
    "\n",
    "axs.ax_marg_x.cla()\n",
    "axs.ax_marg_y.cla()\n",
    "sns.boxplot(y = 'annotation', x='lambda.norm', data = data, ax=axs.ax_marg_x, palette=palette, orient=\"h\")\n",
    "sns.boxplot(y = 'fish.norm', x='annotation', data = data, ax=axs.ax_marg_y, palette=palette)\n",
    "axs.ax_marg_y.set_xticklabels('', rotation=90)\n",
    "axs.ax_marg_x.set_yticklabels('', rotation=90)\n"
   ]
  },
  {
   "cell_type": "code",
   "execution_count": null,
   "metadata": {},
   "outputs": [],
   "source": []
  }
 ],
 "metadata": {
  "kernelspec": {
   "display_name": "Python 3 (ipykernel)",
   "language": "python",
   "name": "python3"
  },
  "language_info": {
   "codemirror_mode": {
    "name": "ipython",
    "version": 3
   },
   "file_extension": ".py",
   "mimetype": "text/x-python",
   "name": "python",
   "nbconvert_exporter": "python",
   "pygments_lexer": "ipython3",
   "version": "3.8.13"
  }
 },
 "nbformat": 4,
 "nbformat_minor": 2
}
