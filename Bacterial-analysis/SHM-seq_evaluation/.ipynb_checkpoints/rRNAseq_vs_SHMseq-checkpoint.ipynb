{
 "cells": [
  {
   "cell_type": "markdown",
   "metadata": {},
   "source": [
    "### Relative abundance comparison SHM-seq vs 16S sequencing\n",
    "\n",
    "Input files:<br>\n",
    "names.dmp: downloaded from NCBI<br>\n",
    "Bacpipeline output file SHM-Seq: QCenz_$*$Bacstdata.tsv<br>\n",
    "Kraken2 data, SRA sample references: SRR9212951, SRR9213178, SRR9213335"
   ]
  },
  {
   "cell_type": "code",
   "execution_count": 1,
   "metadata": {},
   "outputs": [],
   "source": [
    "import os\n",
    "import numpy as np\n",
    "import pandas as pd\n",
    "import matplotlib.pyplot as plt\n",
    "import json\n",
    "from collections import Counter\n",
    "import seaborn as sns\n",
    "from scipy.stats import spearmanr, pearsonr"
   ]
  },
  {
   "cell_type": "code",
   "execution_count": 21,
   "metadata": {},
   "outputs": [
    {
     "name": "stdout",
     "output_type": "stream",
     "text": [
      "1 root\n",
      "2 Bacteria\n"
     ]
    }
   ],
   "source": [
    "#. Read in NCBI names file\n",
    "\n",
    "ncbi_names = 'names.dmp' \n",
    "\n",
    "ncbi = pd.read_csv(ncbi_names, sep='\\t', header=None, usecols=[0, 2, 6])\n",
    "ncbi = ncbi[ncbi[6] == 'scientific name']\n",
    "ncbi.columns = ['taxid', 'taxa', 'type']\n",
    "ncbi.set_index('taxid', inplace=True)\n",
    "\n",
    "# Make into dict\n",
    "ncbi_dict = ncbi.to_dict('index')\n",
    "\n",
    "ncbi_dict = {k:v['taxa'] for k,v in ncbi_dict.items()}\n",
    "\n",
    "count = 0\n",
    "for k,v in ncbi_dict.items():\n",
    "    if count<2:\n",
    "        print(k,v)\n",
    "    count += 1"
   ]
  },
  {
   "cell_type": "markdown",
   "metadata": {},
   "source": [
    "# Load QC SHM-seq"
   ]
  },
  {
   "cell_type": "code",
   "execution_count": 22,
   "metadata": {},
   "outputs": [],
   "source": [
    "file_names = {'QCenz_C1':'enzymatic',\n",
    "             'QCenz_D1':'enzymatic',\n",
    "             'QCenz_E1':'enzymatic'}"
   ]
  },
  {
   "cell_type": "code",
   "execution_count": 23,
   "metadata": {},
   "outputs": [],
   "source": [
    "# Read tsv files\n",
    "\n",
    "path2 = ''\n",
    "\n",
    "taxa_order = ['genus', 'family', 'order', 'class', 'phylum']\n",
    "\n",
    "tsv_l = []\n",
    "tsv_d = {}\n",
    "\n",
    "for file in os.listdir(path2):\n",
    "    if file.endswith(\".tsv\"):\n",
    "        name = file.split('/')[-1].split('_Bac')[0]\n",
    "        \n",
    "        if name in list(file_names):\n",
    "        \n",
    "            df = pd.read_csv(os.path.join(path2, file), sep='\\t')\n",
    "            df.drop(columns='Unnamed: 0', inplace=True)\n",
    "\n",
    "            df[['genus','family', 'order', 'class', 'phylum', 'domain']] = df['taxa_order'].str.split(',',expand=True)\n",
    "            df['name'] = name\n",
    "            df['type'] = df['name'].map(file_names)\n",
    "\n",
    "            sum_fq = df['fastq'].sum()\n",
    "            # Calculate relative abundances on genus level\n",
    "            df['rel.abund'] = df['fastq'] / sum_fq *100\n",
    "\n",
    "            df = df.loc[:,['genus', 'type', 'rel.abund']]\n",
    "            df = pd.pivot(data=df, index='genus', columns='type', values='rel.abund')\n",
    "            df.reset_index(inplace=True)\n",
    "            \n",
    "            tsv_l.append(df)\n",
    "            tsv_d[name] = df\n",
    "            \n",
    "fc = pd.concat(tsv_l)\n",
    "fc = fc.groupby('genus').mean()\n",
    "fc.reset_index(inplace=True)\n"
   ]
  },
  {
   "cell_type": "markdown",
   "metadata": {},
   "source": [
    "# External 16S"
   ]
  },
  {
   "cell_type": "code",
   "execution_count": 25,
   "metadata": {},
   "outputs": [
    {
     "name": "stdout",
     "output_type": "stream",
     "text": [
      "3\n"
     ]
    }
   ],
   "source": [
    "# Read Kraken2 report.txt \n",
    "path3 = ''\n",
    "\n",
    "samp_sv = ['SRR9212951', 'SRR9213178', 'SRR9213335']\n",
    "\n",
    "report_d = {}\n",
    "for file in os.listdir(path3):\n",
    "    if file.endswith(\"kraken2_report.txt\"):\n",
    "        name = file.split('/')[-1].split('_kraken2')[0]\n",
    "        \n",
    "        if name in samp_sv:\n",
    "\n",
    "            df = pd.read_csv(os.path.join(path3, file), sep='\\t', header=None, usecols=[1, 3, 4])\n",
    "            df.columns = ['frags', 'level', 'taxid']\n",
    "            df = df[df['level'].str.startswith('G')]\n",
    "            df['genus'] = df['taxid'].replace(ncbi_dict)\n",
    "\n",
    "            df = df[df['genus'].isin(fc['genus'].tolist())]\n",
    "\n",
    "            # Rel.abund\n",
    "            frag_sum = df['frags'].sum()\n",
    "            df['rel.abund'] = df['frags'] / frag_sum *100\n",
    "            report_d[name] = df\n",
    "\n",
    "print(len(report_d))"
   ]
  },
  {
   "cell_type": "code",
   "execution_count": 27,
   "metadata": {},
   "outputs": [
    {
     "name": "stderr",
     "output_type": "stream",
     "text": [
      "No artists with labels found to put in legend.  Note that artists whose label start with an underscore are ignored when legend() is called with no argument.\n"
     ]
    },
    {
     "name": "stdout",
     "output_type": "stream",
     "text": [
      "Pearson's r: 0.686 pvalue: 7.488251614489639e-07\n"
     ]
    },
    {
     "data": {
      "image/png": "[encoded data removed]",
      "text/plain": [
       "<Figure size 720x720 with 1 Axes>"
      ]
     },
     "metadata": {
      "needs_background": "light"
     },
     "output_type": "display_data"
    }
   ],
   "source": [
    "# Plot mean \n",
    "\n",
    "fr = pd.concat([report_d[samp_sv[0]], report_d[samp_sv[1]], report_d[samp_sv[2]]])\n",
    "fr = fr.groupby('genus').mean()[['rel.abund']]\n",
    "fr.reset_index(inplace=True)\n",
    "\n",
    "# initialize a figure\n",
    "fig = plt.figure(figsize=(10, 10))\n",
    "\n",
    "# for a 1x1 subplot\n",
    "axes = []\n",
    "for row_idx in range(0,1):\n",
    "    for col_idx in range(0,1):\n",
    "        ax = plt.subplot2grid((1, 1), (row_idx, col_idx))\n",
    "\n",
    "x = 'enzymatic'\n",
    "y = 'rel.abund'\n",
    "data = pd.concat([fc.sort_values(by='genus'), fr.sort_values(by='genus')], axis=1)\n",
    "data = data.loc[:,~data.columns.duplicated()]\n",
    "data.set_index('genus', inplace=True)\n",
    "data = np.log2(data)\n",
    "data.reset_index(inplace=True)\n",
    "\n",
    "sns.regplot(x=x, y=y, data=data, ax=ax, x_ci='ci', color='grey', scatter_kws={'rasterized':True})#, scatter_kws={'s':1})\n",
    "\n",
    "ax.set_xlabel('SHM-seq\\n log2(normalized count)')\n",
    "ax.set_ylabel('16S rRNA gene sequencing \\nlog2(normalized count)')\n",
    "\n",
    "# Pearson's r\n",
    "pear, pp = pearsonr(data[x], data[y])\n",
    "print(\"Pearson's r: \" + str(round(pear, 3)) + ' pvalue: ' + str(pp))\n",
    "\n",
    "ax.text(0.04, 0.94, \"Pearson's r: \" + str(round(pear, 2)), transform=ax.transAxes, fontsize=15)\n",
    "\n",
    "ax.legend(loc='center left', bbox_to_anchor=(1, 0.5))\n",
    "plt.tight_layout()\n"
   ]
  },
  {
   "cell_type": "code",
   "execution_count": null,
   "metadata": {},
   "outputs": [],
   "source": []
  }
 ],
 "metadata": {
  "kernelspec": {
   "display_name": "Python 3 (ipykernel)",
   "language": "python",
   "name": "python3"
  },
  "language_info": {
   "codemirror_mode": {
    "name": "ipython",
    "version": 3
   },
   "file_extension": ".py",
   "mimetype": "text/x-python",
   "name": "python",
   "nbconvert_exporter": "python",
   "pygments_lexer": "ipython3",
   "version": "3.8.13"
  }
 },
 "nbformat": 4,
 "nbformat_minor": 4
}
